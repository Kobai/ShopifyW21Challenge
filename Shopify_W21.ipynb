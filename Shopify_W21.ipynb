{
  "nbformat": 4,
  "nbformat_minor": 0,
  "metadata": {
    "colab": {
      "name": "Shopify_W21.ipynb",
      "provenance": [],
      "authorship_tag": "ABX9TyOEVGCqgRY/wB3RUUOapBZl",
      "include_colab_link": true
    },
    "kernelspec": {
      "name": "python3",
      "display_name": "Python 3"
    }
  },
  "cells": [
    {
      "cell_type": "markdown",
      "metadata": {
        "id": "view-in-github",
        "colab_type": "text"
      },
      "source": [
        "<a href=\"https://colab.research.google.com/github/Kobai/ShopifyW21Challenge/blob/master/Shopify_W21.ipynb\" target=\"_parent\"><img src=\"https://colab.research.google.com/assets/colab-badge.svg\" alt=\"Open In Colab\"/></a>"
      ]
    },
    {
      "cell_type": "markdown",
      "metadata": {
        "id": "ysFWZzEB-LH4",
        "colab_type": "text"
      },
      "source": [
        "# Question 1"
      ]
    },
    {
      "cell_type": "markdown",
      "metadata": {
        "id": "2aGaL1xfvfsH",
        "colab_type": "text"
      },
      "source": [
        "Import Packages"
      ]
    },
    {
      "cell_type": "code",
      "metadata": {
        "id": "7OpOzm_CqA81",
        "colab_type": "code",
        "colab": {}
      },
      "source": [
        "import pandas as pd\n",
        "import matplotlib.pyplot as plt\n",
        "import seaborn as sns\n",
        "from scipy import stats\n",
        "import numpy as np"
      ],
      "execution_count": null,
      "outputs": []
    },
    {
      "cell_type": "markdown",
      "metadata": {
        "id": "qDqCxlpavngs",
        "colab_type": "text"
      },
      "source": [
        "Acquire Data and confirm naive average is **3145.13**"
      ]
    },
    {
      "cell_type": "code",
      "metadata": {
        "id": "AvBDCcg6qO-m",
        "colab_type": "code",
        "colab": {}
      },
      "source": [
        "df = pd.read_csv('data.csv')"
      ],
      "execution_count": null,
      "outputs": []
    },
    {
      "cell_type": "code",
      "metadata": {
        "id": "NjNRvWhNqaty",
        "colab_type": "code",
        "colab": {
          "base_uri": "https://localhost:8080/",
          "height": 204
        },
        "outputId": "a6e5de89-e757-4f54-983e-77325dbbfedb"
      },
      "source": [
        "df.head()"
      ],
      "execution_count": null,
      "outputs": [
        {
          "output_type": "execute_result",
          "data": {
            "text/html": [
              "<div>\n",
              "<style scoped>\n",
              "    .dataframe tbody tr th:only-of-type {\n",
              "        vertical-align: middle;\n",
              "    }\n",
              "\n",
              "    .dataframe tbody tr th {\n",
              "        vertical-align: top;\n",
              "    }\n",
              "\n",
              "    .dataframe thead th {\n",
              "        text-align: right;\n",
              "    }\n",
              "</style>\n",
              "<table border=\"1\" class=\"dataframe\">\n",
              "  <thead>\n",
              "    <tr style=\"text-align: right;\">\n",
              "      <th></th>\n",
              "      <th>order_id</th>\n",
              "      <th>shop_id</th>\n",
              "      <th>user_id</th>\n",
              "      <th>order_amount</th>\n",
              "      <th>total_items</th>\n",
              "      <th>payment_method</th>\n",
              "      <th>created_at</th>\n",
              "    </tr>\n",
              "  </thead>\n",
              "  <tbody>\n",
              "    <tr>\n",
              "      <th>0</th>\n",
              "      <td>1</td>\n",
              "      <td>53</td>\n",
              "      <td>746</td>\n",
              "      <td>224</td>\n",
              "      <td>2</td>\n",
              "      <td>cash</td>\n",
              "      <td>2017-03-13 12:36:56</td>\n",
              "    </tr>\n",
              "    <tr>\n",
              "      <th>1</th>\n",
              "      <td>2</td>\n",
              "      <td>92</td>\n",
              "      <td>925</td>\n",
              "      <td>90</td>\n",
              "      <td>1</td>\n",
              "      <td>cash</td>\n",
              "      <td>2017-03-03 17:38:52</td>\n",
              "    </tr>\n",
              "    <tr>\n",
              "      <th>2</th>\n",
              "      <td>3</td>\n",
              "      <td>44</td>\n",
              "      <td>861</td>\n",
              "      <td>144</td>\n",
              "      <td>1</td>\n",
              "      <td>cash</td>\n",
              "      <td>2017-03-14 4:23:56</td>\n",
              "    </tr>\n",
              "    <tr>\n",
              "      <th>3</th>\n",
              "      <td>4</td>\n",
              "      <td>18</td>\n",
              "      <td>935</td>\n",
              "      <td>156</td>\n",
              "      <td>1</td>\n",
              "      <td>credit_card</td>\n",
              "      <td>2017-03-26 12:43:37</td>\n",
              "    </tr>\n",
              "    <tr>\n",
              "      <th>4</th>\n",
              "      <td>5</td>\n",
              "      <td>18</td>\n",
              "      <td>883</td>\n",
              "      <td>156</td>\n",
              "      <td>1</td>\n",
              "      <td>credit_card</td>\n",
              "      <td>2017-03-01 4:35:11</td>\n",
              "    </tr>\n",
              "  </tbody>\n",
              "</table>\n",
              "</div>"
            ],
            "text/plain": [
              "   order_id  shop_id  user_id  ...  total_items  payment_method           created_at\n",
              "0         1       53      746  ...            2            cash  2017-03-13 12:36:56\n",
              "1         2       92      925  ...            1            cash  2017-03-03 17:38:52\n",
              "2         3       44      861  ...            1            cash   2017-03-14 4:23:56\n",
              "3         4       18      935  ...            1     credit_card  2017-03-26 12:43:37\n",
              "4         5       18      883  ...            1     credit_card   2017-03-01 4:35:11\n",
              "\n",
              "[5 rows x 7 columns]"
            ]
          },
          "metadata": {
            "tags": []
          },
          "execution_count": 28
        }
      ]
    },
    {
      "cell_type": "code",
      "metadata": {
        "id": "vUEZKToLqb4l",
        "colab_type": "code",
        "colab": {
          "base_uri": "https://localhost:8080/",
          "height": 34
        },
        "outputId": "6101a3a4-5384-49bf-bf32-d9e5c663720b"
      },
      "source": [
        "df['order_amount'].sum() / len(df['order_amount'])"
      ],
      "execution_count": null,
      "outputs": [
        {
          "output_type": "execute_result",
          "data": {
            "text/plain": [
              "3145.128"
            ]
          },
          "metadata": {
            "tags": []
          },
          "execution_count": 29
        }
      ]
    },
    {
      "cell_type": "markdown",
      "metadata": {
        "id": "uXeWjPzNvzMy",
        "colab_type": "text"
      },
      "source": [
        "For such a high AOV, one possible explanation is that people are purchasing multiple pairs of shoes per order. \n",
        "\n",
        "Intuitively, 1-8 is reasonable, especially for a family order. But 2000??"
      ]
    },
    {
      "cell_type": "code",
      "metadata": {
        "id": "lfa2coVnuimM",
        "colab_type": "code",
        "colab": {
          "base_uri": "https://localhost:8080/",
          "height": 34
        },
        "outputId": "f863082c-28a5-439f-d719-cbda4707435e"
      },
      "source": [
        "df['total_items'].unique()"
      ],
      "execution_count": null,
      "outputs": [
        {
          "output_type": "execute_result",
          "data": {
            "text/plain": [
              "array([   2,    1,    3, 2000,    4,    5,    6,    8])"
            ]
          },
          "metadata": {
            "tags": []
          },
          "execution_count": 30
        }
      ]
    },
    {
      "cell_type": "code",
      "metadata": {
        "id": "KmYWgHo0umyg",
        "colab_type": "code",
        "colab": {
          "base_uri": "https://localhost:8080/",
          "height": 576
        },
        "outputId": "65d35b39-cf94-4c5a-e562-b3df009c58d7"
      },
      "source": [
        "df[df['total_items'] == 2000 ]"
      ],
      "execution_count": null,
      "outputs": [
        {
          "output_type": "execute_result",
          "data": {
            "text/html": [
              "<div>\n",
              "<style scoped>\n",
              "    .dataframe tbody tr th:only-of-type {\n",
              "        vertical-align: middle;\n",
              "    }\n",
              "\n",
              "    .dataframe tbody tr th {\n",
              "        vertical-align: top;\n",
              "    }\n",
              "\n",
              "    .dataframe thead th {\n",
              "        text-align: right;\n",
              "    }\n",
              "</style>\n",
              "<table border=\"1\" class=\"dataframe\">\n",
              "  <thead>\n",
              "    <tr style=\"text-align: right;\">\n",
              "      <th></th>\n",
              "      <th>order_id</th>\n",
              "      <th>shop_id</th>\n",
              "      <th>user_id</th>\n",
              "      <th>order_amount</th>\n",
              "      <th>total_items</th>\n",
              "      <th>payment_method</th>\n",
              "      <th>created_at</th>\n",
              "    </tr>\n",
              "  </thead>\n",
              "  <tbody>\n",
              "    <tr>\n",
              "      <th>15</th>\n",
              "      <td>16</td>\n",
              "      <td>42</td>\n",
              "      <td>607</td>\n",
              "      <td>704000</td>\n",
              "      <td>2000</td>\n",
              "      <td>credit_card</td>\n",
              "      <td>2017-03-07 4:00:00</td>\n",
              "    </tr>\n",
              "    <tr>\n",
              "      <th>60</th>\n",
              "      <td>61</td>\n",
              "      <td>42</td>\n",
              "      <td>607</td>\n",
              "      <td>704000</td>\n",
              "      <td>2000</td>\n",
              "      <td>credit_card</td>\n",
              "      <td>2017-03-04 4:00:00</td>\n",
              "    </tr>\n",
              "    <tr>\n",
              "      <th>520</th>\n",
              "      <td>521</td>\n",
              "      <td>42</td>\n",
              "      <td>607</td>\n",
              "      <td>704000</td>\n",
              "      <td>2000</td>\n",
              "      <td>credit_card</td>\n",
              "      <td>2017-03-02 4:00:00</td>\n",
              "    </tr>\n",
              "    <tr>\n",
              "      <th>1104</th>\n",
              "      <td>1105</td>\n",
              "      <td>42</td>\n",
              "      <td>607</td>\n",
              "      <td>704000</td>\n",
              "      <td>2000</td>\n",
              "      <td>credit_card</td>\n",
              "      <td>2017-03-24 4:00:00</td>\n",
              "    </tr>\n",
              "    <tr>\n",
              "      <th>1362</th>\n",
              "      <td>1363</td>\n",
              "      <td>42</td>\n",
              "      <td>607</td>\n",
              "      <td>704000</td>\n",
              "      <td>2000</td>\n",
              "      <td>credit_card</td>\n",
              "      <td>2017-03-15 4:00:00</td>\n",
              "    </tr>\n",
              "    <tr>\n",
              "      <th>1436</th>\n",
              "      <td>1437</td>\n",
              "      <td>42</td>\n",
              "      <td>607</td>\n",
              "      <td>704000</td>\n",
              "      <td>2000</td>\n",
              "      <td>credit_card</td>\n",
              "      <td>2017-03-11 4:00:00</td>\n",
              "    </tr>\n",
              "    <tr>\n",
              "      <th>1562</th>\n",
              "      <td>1563</td>\n",
              "      <td>42</td>\n",
              "      <td>607</td>\n",
              "      <td>704000</td>\n",
              "      <td>2000</td>\n",
              "      <td>credit_card</td>\n",
              "      <td>2017-03-19 4:00:00</td>\n",
              "    </tr>\n",
              "    <tr>\n",
              "      <th>1602</th>\n",
              "      <td>1603</td>\n",
              "      <td>42</td>\n",
              "      <td>607</td>\n",
              "      <td>704000</td>\n",
              "      <td>2000</td>\n",
              "      <td>credit_card</td>\n",
              "      <td>2017-03-17 4:00:00</td>\n",
              "    </tr>\n",
              "    <tr>\n",
              "      <th>2153</th>\n",
              "      <td>2154</td>\n",
              "      <td>42</td>\n",
              "      <td>607</td>\n",
              "      <td>704000</td>\n",
              "      <td>2000</td>\n",
              "      <td>credit_card</td>\n",
              "      <td>2017-03-12 4:00:00</td>\n",
              "    </tr>\n",
              "    <tr>\n",
              "      <th>2297</th>\n",
              "      <td>2298</td>\n",
              "      <td>42</td>\n",
              "      <td>607</td>\n",
              "      <td>704000</td>\n",
              "      <td>2000</td>\n",
              "      <td>credit_card</td>\n",
              "      <td>2017-03-07 4:00:00</td>\n",
              "    </tr>\n",
              "    <tr>\n",
              "      <th>2835</th>\n",
              "      <td>2836</td>\n",
              "      <td>42</td>\n",
              "      <td>607</td>\n",
              "      <td>704000</td>\n",
              "      <td>2000</td>\n",
              "      <td>credit_card</td>\n",
              "      <td>2017-03-28 4:00:00</td>\n",
              "    </tr>\n",
              "    <tr>\n",
              "      <th>2969</th>\n",
              "      <td>2970</td>\n",
              "      <td>42</td>\n",
              "      <td>607</td>\n",
              "      <td>704000</td>\n",
              "      <td>2000</td>\n",
              "      <td>credit_card</td>\n",
              "      <td>2017-03-28 4:00:00</td>\n",
              "    </tr>\n",
              "    <tr>\n",
              "      <th>3332</th>\n",
              "      <td>3333</td>\n",
              "      <td>42</td>\n",
              "      <td>607</td>\n",
              "      <td>704000</td>\n",
              "      <td>2000</td>\n",
              "      <td>credit_card</td>\n",
              "      <td>2017-03-24 4:00:00</td>\n",
              "    </tr>\n",
              "    <tr>\n",
              "      <th>4056</th>\n",
              "      <td>4057</td>\n",
              "      <td>42</td>\n",
              "      <td>607</td>\n",
              "      <td>704000</td>\n",
              "      <td>2000</td>\n",
              "      <td>credit_card</td>\n",
              "      <td>2017-03-28 4:00:00</td>\n",
              "    </tr>\n",
              "    <tr>\n",
              "      <th>4646</th>\n",
              "      <td>4647</td>\n",
              "      <td>42</td>\n",
              "      <td>607</td>\n",
              "      <td>704000</td>\n",
              "      <td>2000</td>\n",
              "      <td>credit_card</td>\n",
              "      <td>2017-03-02 4:00:00</td>\n",
              "    </tr>\n",
              "    <tr>\n",
              "      <th>4868</th>\n",
              "      <td>4869</td>\n",
              "      <td>42</td>\n",
              "      <td>607</td>\n",
              "      <td>704000</td>\n",
              "      <td>2000</td>\n",
              "      <td>credit_card</td>\n",
              "      <td>2017-03-22 4:00:00</td>\n",
              "    </tr>\n",
              "    <tr>\n",
              "      <th>4882</th>\n",
              "      <td>4883</td>\n",
              "      <td>42</td>\n",
              "      <td>607</td>\n",
              "      <td>704000</td>\n",
              "      <td>2000</td>\n",
              "      <td>credit_card</td>\n",
              "      <td>2017-03-25 4:00:00</td>\n",
              "    </tr>\n",
              "  </tbody>\n",
              "</table>\n",
              "</div>"
            ],
            "text/plain": [
              "      order_id  shop_id  ...  payment_method          created_at\n",
              "15          16       42  ...     credit_card  2017-03-07 4:00:00\n",
              "60          61       42  ...     credit_card  2017-03-04 4:00:00\n",
              "520        521       42  ...     credit_card  2017-03-02 4:00:00\n",
              "1104      1105       42  ...     credit_card  2017-03-24 4:00:00\n",
              "1362      1363       42  ...     credit_card  2017-03-15 4:00:00\n",
              "1436      1437       42  ...     credit_card  2017-03-11 4:00:00\n",
              "1562      1563       42  ...     credit_card  2017-03-19 4:00:00\n",
              "1602      1603       42  ...     credit_card  2017-03-17 4:00:00\n",
              "2153      2154       42  ...     credit_card  2017-03-12 4:00:00\n",
              "2297      2298       42  ...     credit_card  2017-03-07 4:00:00\n",
              "2835      2836       42  ...     credit_card  2017-03-28 4:00:00\n",
              "2969      2970       42  ...     credit_card  2017-03-28 4:00:00\n",
              "3332      3333       42  ...     credit_card  2017-03-24 4:00:00\n",
              "4056      4057       42  ...     credit_card  2017-03-28 4:00:00\n",
              "4646      4647       42  ...     credit_card  2017-03-02 4:00:00\n",
              "4868      4869       42  ...     credit_card  2017-03-22 4:00:00\n",
              "4882      4883       42  ...     credit_card  2017-03-25 4:00:00\n",
              "\n",
              "[17 rows x 7 columns]"
            ]
          },
          "metadata": {
            "tags": []
          },
          "execution_count": 31
        }
      ]
    },
    {
      "cell_type": "markdown",
      "metadata": {
        "id": "IOy81pWGw_vv",
        "colab_type": "text"
      },
      "source": [
        "So either 607 is a shoe retailer or there's some credit card fraud they need to get checked... This is clearly not normal behavior and should not be part of the AOV calculation"
      ]
    },
    {
      "cell_type": "code",
      "metadata": {
        "id": "lwT7kcTNuxEX",
        "colab_type": "code",
        "colab": {
          "base_uri": "https://localhost:8080/",
          "height": 34
        },
        "outputId": "626f6fdd-24ed-4783-dd84-70d990d63663"
      },
      "source": [
        "df = df[df['total_items'] < 2000 ]\n",
        "df['order_amount'].sum() / len(df['order_amount'])"
      ],
      "execution_count": null,
      "outputs": [
        {
          "output_type": "execute_result",
          "data": {
            "text/plain": [
              "754.0919125025085"
            ]
          },
          "metadata": {
            "tags": []
          },
          "execution_count": 32
        }
      ]
    },
    {
      "cell_type": "markdown",
      "metadata": {
        "id": "rtONF2ZJytJr",
        "colab_type": "text"
      },
      "source": [
        "Already, we have an AOV of 754. Much more reasonable than 3k, but still very high. Let's make a boxplot with the order amounts to view our progress"
      ]
    },
    {
      "cell_type": "code",
      "metadata": {
        "id": "2Yr6E4UdyTdL",
        "colab_type": "code",
        "colab": {
          "base_uri": "https://localhost:8080/",
          "height": 297
        },
        "outputId": "c07d8743-d723-49d0-9d47-587e3a182355"
      },
      "source": [
        "sns.boxplot(x=df['order_amount'])"
      ],
      "execution_count": null,
      "outputs": [
        {
          "output_type": "execute_result",
          "data": {
            "text/plain": [
              "<matplotlib.axes._subplots.AxesSubplot at 0x7f1d88bece48>"
            ]
          },
          "metadata": {
            "tags": []
          },
          "execution_count": 33
        },
        {
          "output_type": "display_data",
          "data": {
            "image/png": "[encoded data removed]",
            "text/plain": [
              "<Figure size 432x288 with 1 Axes>"
            ]
          },
          "metadata": {
            "tags": [],
            "needs_background": "light"
          }
        }
      ]
    },
    {
      "cell_type": "markdown",
      "metadata": {
        "id": "YnWTGnui42s3",
        "colab_type": "text"
      },
      "source": [
        "As we can see, there are still exceptionally high purchase orders that need explaining. We find the maximum non-outlier value (730) and explore entries with order amounts over 730"
      ]
    },
    {
      "cell_type": "code",
      "metadata": {
        "id": "L6b0tuljy_-R",
        "colab_type": "code",
        "colab": {
          "base_uri": "https://localhost:8080/",
          "height": 34
        },
        "outputId": "4d8d219f-8bab-4b1a-c02c-903c8cb15c13"
      },
      "source": [
        "Q1 = df['order_amount'].quantile(0.25)\n",
        "Q3 = df['order_amount'].quantile(0.75)\n",
        "IQR = Q3-Q1\n",
        "low_bound = Q1 - 1.5 * IQR\n",
        "up_bound = Q3 + 1.5 * IQR\n",
        "print(up_bound)"
      ],
      "execution_count": null,
      "outputs": [
        {
          "output_type": "stream",
          "text": [
            "730.5\n"
          ],
          "name": "stdout"
        }
      ]
    },
    {
      "cell_type": "code",
      "metadata": {
        "id": "d5eygaoQzaZR",
        "colab_type": "code",
        "colab": {
          "base_uri": "https://localhost:8080/",
          "height": 419
        },
        "outputId": "944a8b11-6572-40f6-a361-53f4b8fb410a"
      },
      "source": [
        "high_purchase = df[df['order_amount'] > 730]\n",
        "high_purchase"
      ],
      "execution_count": null,
      "outputs": [
        {
          "output_type": "execute_result",
          "data": {
            "text/html": [
              "<div>\n",
              "<style scoped>\n",
              "    .dataframe tbody tr th:only-of-type {\n",
              "        vertical-align: middle;\n",
              "    }\n",
              "\n",
              "    .dataframe tbody tr th {\n",
              "        vertical-align: top;\n",
              "    }\n",
              "\n",
              "    .dataframe thead th {\n",
              "        text-align: right;\n",
              "    }\n",
              "</style>\n",
              "<table border=\"1\" class=\"dataframe\">\n",
              "  <thead>\n",
              "    <tr style=\"text-align: right;\">\n",
              "      <th></th>\n",
              "      <th>order_id</th>\n",
              "      <th>shop_id</th>\n",
              "      <th>user_id</th>\n",
              "      <th>order_amount</th>\n",
              "      <th>total_items</th>\n",
              "      <th>payment_method</th>\n",
              "      <th>created_at</th>\n",
              "    </tr>\n",
              "  </thead>\n",
              "  <tbody>\n",
              "    <tr>\n",
              "      <th>99</th>\n",
              "      <td>100</td>\n",
              "      <td>18</td>\n",
              "      <td>752</td>\n",
              "      <td>780</td>\n",
              "      <td>5</td>\n",
              "      <td>cash</td>\n",
              "      <td>2017-03-06 23:41:16</td>\n",
              "    </tr>\n",
              "    <tr>\n",
              "      <th>136</th>\n",
              "      <td>137</td>\n",
              "      <td>15</td>\n",
              "      <td>961</td>\n",
              "      <td>765</td>\n",
              "      <td>5</td>\n",
              "      <td>credit_card</td>\n",
              "      <td>2017-03-26 5:06:46</td>\n",
              "    </tr>\n",
              "    <tr>\n",
              "      <th>160</th>\n",
              "      <td>161</td>\n",
              "      <td>78</td>\n",
              "      <td>990</td>\n",
              "      <td>25725</td>\n",
              "      <td>1</td>\n",
              "      <td>credit_card</td>\n",
              "      <td>2017-03-12 5:56:57</td>\n",
              "    </tr>\n",
              "    <tr>\n",
              "      <th>219</th>\n",
              "      <td>220</td>\n",
              "      <td>23</td>\n",
              "      <td>884</td>\n",
              "      <td>780</td>\n",
              "      <td>5</td>\n",
              "      <td>credit_card</td>\n",
              "      <td>2017-03-03 20:11:05</td>\n",
              "    </tr>\n",
              "    <tr>\n",
              "      <th>222</th>\n",
              "      <td>223</td>\n",
              "      <td>96</td>\n",
              "      <td>829</td>\n",
              "      <td>765</td>\n",
              "      <td>5</td>\n",
              "      <td>debit</td>\n",
              "      <td>2017-03-13 15:16:25</td>\n",
              "    </tr>\n",
              "    <tr>\n",
              "      <th>...</th>\n",
              "      <td>...</td>\n",
              "      <td>...</td>\n",
              "      <td>...</td>\n",
              "      <td>...</td>\n",
              "      <td>...</td>\n",
              "      <td>...</td>\n",
              "      <td>...</td>\n",
              "    </tr>\n",
              "    <tr>\n",
              "      <th>4918</th>\n",
              "      <td>4919</td>\n",
              "      <td>78</td>\n",
              "      <td>823</td>\n",
              "      <td>25725</td>\n",
              "      <td>1</td>\n",
              "      <td>cash</td>\n",
              "      <td>2017-03-15 13:26:46</td>\n",
              "    </tr>\n",
              "    <tr>\n",
              "      <th>4927</th>\n",
              "      <td>4928</td>\n",
              "      <td>74</td>\n",
              "      <td>849</td>\n",
              "      <td>765</td>\n",
              "      <td>5</td>\n",
              "      <td>cash</td>\n",
              "      <td>2017-03-28 6:55:57</td>\n",
              "    </tr>\n",
              "    <tr>\n",
              "      <th>4952</th>\n",
              "      <td>4953</td>\n",
              "      <td>26</td>\n",
              "      <td>786</td>\n",
              "      <td>880</td>\n",
              "      <td>5</td>\n",
              "      <td>cash</td>\n",
              "      <td>2017-03-17 1:50:18</td>\n",
              "    </tr>\n",
              "    <tr>\n",
              "      <th>4958</th>\n",
              "      <td>4959</td>\n",
              "      <td>70</td>\n",
              "      <td>711</td>\n",
              "      <td>865</td>\n",
              "      <td>5</td>\n",
              "      <td>credit_card</td>\n",
              "      <td>2017-03-08 17:22:51</td>\n",
              "    </tr>\n",
              "    <tr>\n",
              "      <th>4980</th>\n",
              "      <td>4981</td>\n",
              "      <td>50</td>\n",
              "      <td>942</td>\n",
              "      <td>772</td>\n",
              "      <td>4</td>\n",
              "      <td>credit_card</td>\n",
              "      <td>2017-03-23 5:15:19</td>\n",
              "    </tr>\n",
              "  </tbody>\n",
              "</table>\n",
              "<p>124 rows × 7 columns</p>\n",
              "</div>"
            ],
            "text/plain": [
              "      order_id  shop_id  ...  payment_method           created_at\n",
              "99         100       18  ...            cash  2017-03-06 23:41:16\n",
              "136        137       15  ...     credit_card   2017-03-26 5:06:46\n",
              "160        161       78  ...     credit_card   2017-03-12 5:56:57\n",
              "219        220       23  ...     credit_card  2017-03-03 20:11:05\n",
              "222        223       96  ...           debit  2017-03-13 15:16:25\n",
              "...        ...      ...  ...             ...                  ...\n",
              "4918      4919       78  ...            cash  2017-03-15 13:26:46\n",
              "4927      4928       74  ...            cash   2017-03-28 6:55:57\n",
              "4952      4953       26  ...            cash   2017-03-17 1:50:18\n",
              "4958      4959       70  ...     credit_card  2017-03-08 17:22:51\n",
              "4980      4981       50  ...     credit_card   2017-03-23 5:15:19\n",
              "\n",
              "[124 rows x 7 columns]"
            ]
          },
          "metadata": {
            "tags": []
          },
          "execution_count": 35
        }
      ]
    },
    {
      "cell_type": "markdown",
      "metadata": {
        "id": "aVquGJFs0oSq",
        "colab_type": "text"
      },
      "source": [
        "From a quick inspection, I noticed that shoes from shop 78 are either diamond encrusted or come with a free car. It looks like it's worth viewing AOV prices from each store."
      ]
    },
    {
      "cell_type": "code",
      "metadata": {
        "id": "ulatHlal0WDx",
        "colab_type": "code",
        "colab": {}
      },
      "source": [
        "shop_dict = {}\n",
        "for shop in sorted(df['shop_id'].unique()):\n",
        "  temp = df[df['shop_id'] == shop]\n",
        "  aov = temp['order_amount'].sum() / len(temp['order_amount'])\n",
        "  shop_dict[shop] = aov"
      ],
      "execution_count": null,
      "outputs": []
    },
    {
      "cell_type": "code",
      "metadata": {
        "id": "ZtRefDOa1S42",
        "colab_type": "code",
        "colab": {
          "base_uri": "https://localhost:8080/",
          "height": 282
        },
        "outputId": "d5496eb4-2b71-404d-b3ae-a27f3da0f108"
      },
      "source": [
        "plt.bar(*zip(*shop_dict.items()))"
      ],
      "execution_count": null,
      "outputs": [
        {
          "output_type": "execute_result",
          "data": {
            "text/plain": [
              "<BarContainer object of 100 artists>"
            ]
          },
          "metadata": {
            "tags": []
          },
          "execution_count": 37
        },
        {
          "output_type": "display_data",
          "data": {
            "image/png": "[encoded data removed]",
            "text/plain": [
              "<Figure size 432x288 with 1 Axes>"
            ]
          },
          "metadata": {
            "tags": [],
            "needs_background": "light"
          }
        }
      ]
    },
    {
      "cell_type": "markdown",
      "metadata": {
        "id": "mdC5X-d72h7A",
        "colab_type": "text"
      },
      "source": [
        "It's hard to see the other stores with the scaling, but clearly shop 78 is special. Below is the distribution without it"
      ]
    },
    {
      "cell_type": "code",
      "metadata": {
        "id": "2WYUSy552Yip",
        "colab_type": "code",
        "colab": {
          "base_uri": "https://localhost:8080/",
          "height": 282
        },
        "outputId": "2233bc40-3ef8-4190-bcf0-247e9d3b98a8"
      },
      "source": [
        "shop_dict.pop(78)\n",
        "plt.bar(*zip(*shop_dict.items()))"
      ],
      "execution_count": null,
      "outputs": [
        {
          "output_type": "execute_result",
          "data": {
            "text/plain": [
              "<BarContainer object of 99 artists>"
            ]
          },
          "metadata": {
            "tags": []
          },
          "execution_count": 38
        },
        {
          "output_type": "display_data",
          "data": {
            "image/png": "[encoded data removed]",
            "text/plain": [
              "<Figure size 432x288 with 1 Axes>"
            ]
          },
          "metadata": {
            "tags": [],
            "needs_background": "light"
          }
        }
      ]
    },
    {
      "cell_type": "markdown",
      "metadata": {
        "id": "OPYlc2ju2_BL",
        "colab_type": "text"
      },
      "source": [
        "For the most part, the AOV of each store seems similar, but 42 is a bit high. Maybe there's a reason for it"
      ]
    },
    {
      "cell_type": "code",
      "metadata": {
        "id": "dB2mc0qQ20Pf",
        "colab_type": "code",
        "colab": {
          "base_uri": "https://localhost:8080/",
          "height": 1000
        },
        "outputId": "3d7d663c-e119-4c68-8e40-5427c05d4634"
      },
      "source": [
        "df[df['shop_id'] == 42]"
      ],
      "execution_count": null,
      "outputs": [
        {
          "output_type": "execute_result",
          "data": {
            "text/html": [
              "<div>\n",
              "<style scoped>\n",
              "    .dataframe tbody tr th:only-of-type {\n",
              "        vertical-align: middle;\n",
              "    }\n",
              "\n",
              "    .dataframe tbody tr th {\n",
              "        vertical-align: top;\n",
              "    }\n",
              "\n",
              "    .dataframe thead th {\n",
              "        text-align: right;\n",
              "    }\n",
              "</style>\n",
              "<table border=\"1\" class=\"dataframe\">\n",
              "  <thead>\n",
              "    <tr style=\"text-align: right;\">\n",
              "      <th></th>\n",
              "      <th>order_id</th>\n",
              "      <th>shop_id</th>\n",
              "      <th>user_id</th>\n",
              "      <th>order_amount</th>\n",
              "      <th>total_items</th>\n",
              "      <th>payment_method</th>\n",
              "      <th>created_at</th>\n",
              "    </tr>\n",
              "  </thead>\n",
              "  <tbody>\n",
              "    <tr>\n",
              "      <th>40</th>\n",
              "      <td>41</td>\n",
              "      <td>42</td>\n",
              "      <td>793</td>\n",
              "      <td>352</td>\n",
              "      <td>1</td>\n",
              "      <td>credit_card</td>\n",
              "      <td>2017-03-24 14:15:41</td>\n",
              "    </tr>\n",
              "    <tr>\n",
              "      <th>308</th>\n",
              "      <td>309</td>\n",
              "      <td>42</td>\n",
              "      <td>770</td>\n",
              "      <td>352</td>\n",
              "      <td>1</td>\n",
              "      <td>credit_card</td>\n",
              "      <td>2017-03-11 18:14:39</td>\n",
              "    </tr>\n",
              "    <tr>\n",
              "      <th>409</th>\n",
              "      <td>410</td>\n",
              "      <td>42</td>\n",
              "      <td>904</td>\n",
              "      <td>704</td>\n",
              "      <td>2</td>\n",
              "      <td>credit_card</td>\n",
              "      <td>2017-03-04 14:32:58</td>\n",
              "    </tr>\n",
              "    <tr>\n",
              "      <th>834</th>\n",
              "      <td>835</td>\n",
              "      <td>42</td>\n",
              "      <td>792</td>\n",
              "      <td>352</td>\n",
              "      <td>1</td>\n",
              "      <td>cash</td>\n",
              "      <td>2017-03-25 21:31:25</td>\n",
              "    </tr>\n",
              "    <tr>\n",
              "      <th>835</th>\n",
              "      <td>836</td>\n",
              "      <td>42</td>\n",
              "      <td>819</td>\n",
              "      <td>704</td>\n",
              "      <td>2</td>\n",
              "      <td>cash</td>\n",
              "      <td>2017-03-09 14:15:15</td>\n",
              "    </tr>\n",
              "    <tr>\n",
              "      <th>938</th>\n",
              "      <td>939</td>\n",
              "      <td>42</td>\n",
              "      <td>808</td>\n",
              "      <td>1056</td>\n",
              "      <td>3</td>\n",
              "      <td>credit_card</td>\n",
              "      <td>2017-03-13 23:43:45</td>\n",
              "    </tr>\n",
              "    <tr>\n",
              "      <th>979</th>\n",
              "      <td>980</td>\n",
              "      <td>42</td>\n",
              "      <td>744</td>\n",
              "      <td>352</td>\n",
              "      <td>1</td>\n",
              "      <td>debit</td>\n",
              "      <td>2017-03-12 13:09:04</td>\n",
              "    </tr>\n",
              "    <tr>\n",
              "      <th>1364</th>\n",
              "      <td>1365</td>\n",
              "      <td>42</td>\n",
              "      <td>797</td>\n",
              "      <td>1760</td>\n",
              "      <td>5</td>\n",
              "      <td>cash</td>\n",
              "      <td>2017-03-10 6:28:21</td>\n",
              "    </tr>\n",
              "    <tr>\n",
              "      <th>1367</th>\n",
              "      <td>1368</td>\n",
              "      <td>42</td>\n",
              "      <td>926</td>\n",
              "      <td>1408</td>\n",
              "      <td>4</td>\n",
              "      <td>cash</td>\n",
              "      <td>2017-03-13 2:38:34</td>\n",
              "    </tr>\n",
              "    <tr>\n",
              "      <th>1471</th>\n",
              "      <td>1472</td>\n",
              "      <td>42</td>\n",
              "      <td>907</td>\n",
              "      <td>1408</td>\n",
              "      <td>4</td>\n",
              "      <td>debit</td>\n",
              "      <td>2017-03-12 23:00:22</td>\n",
              "    </tr>\n",
              "    <tr>\n",
              "      <th>1512</th>\n",
              "      <td>1513</td>\n",
              "      <td>42</td>\n",
              "      <td>946</td>\n",
              "      <td>352</td>\n",
              "      <td>1</td>\n",
              "      <td>debit</td>\n",
              "      <td>2017-03-24 13:35:04</td>\n",
              "    </tr>\n",
              "    <tr>\n",
              "      <th>1520</th>\n",
              "      <td>1521</td>\n",
              "      <td>42</td>\n",
              "      <td>756</td>\n",
              "      <td>704</td>\n",
              "      <td>2</td>\n",
              "      <td>debit</td>\n",
              "      <td>2017-03-22 13:10:31</td>\n",
              "    </tr>\n",
              "    <tr>\n",
              "      <th>1911</th>\n",
              "      <td>1912</td>\n",
              "      <td>42</td>\n",
              "      <td>739</td>\n",
              "      <td>704</td>\n",
              "      <td>2</td>\n",
              "      <td>cash</td>\n",
              "      <td>2017-03-07 5:42:52</td>\n",
              "    </tr>\n",
              "    <tr>\n",
              "      <th>1929</th>\n",
              "      <td>1930</td>\n",
              "      <td>42</td>\n",
              "      <td>770</td>\n",
              "      <td>352</td>\n",
              "      <td>1</td>\n",
              "      <td>credit_card</td>\n",
              "      <td>2017-03-17 8:11:13</td>\n",
              "    </tr>\n",
              "    <tr>\n",
              "      <th>2003</th>\n",
              "      <td>2004</td>\n",
              "      <td>42</td>\n",
              "      <td>934</td>\n",
              "      <td>704</td>\n",
              "      <td>2</td>\n",
              "      <td>cash</td>\n",
              "      <td>2017-03-26 9:21:26</td>\n",
              "    </tr>\n",
              "    <tr>\n",
              "      <th>2018</th>\n",
              "      <td>2019</td>\n",
              "      <td>42</td>\n",
              "      <td>739</td>\n",
              "      <td>352</td>\n",
              "      <td>1</td>\n",
              "      <td>debit</td>\n",
              "      <td>2017-03-01 12:42:26</td>\n",
              "    </tr>\n",
              "    <tr>\n",
              "      <th>2053</th>\n",
              "      <td>2054</td>\n",
              "      <td>42</td>\n",
              "      <td>951</td>\n",
              "      <td>352</td>\n",
              "      <td>1</td>\n",
              "      <td>debit</td>\n",
              "      <td>2017-03-19 11:49:12</td>\n",
              "    </tr>\n",
              "    <tr>\n",
              "      <th>2273</th>\n",
              "      <td>2274</td>\n",
              "      <td>42</td>\n",
              "      <td>747</td>\n",
              "      <td>704</td>\n",
              "      <td>2</td>\n",
              "      <td>debit</td>\n",
              "      <td>2017-03-27 20:48:19</td>\n",
              "    </tr>\n",
              "    <tr>\n",
              "      <th>2491</th>\n",
              "      <td>2492</td>\n",
              "      <td>42</td>\n",
              "      <td>868</td>\n",
              "      <td>704</td>\n",
              "      <td>2</td>\n",
              "      <td>debit</td>\n",
              "      <td>2017-03-01 18:33:33</td>\n",
              "    </tr>\n",
              "    <tr>\n",
              "      <th>2609</th>\n",
              "      <td>2610</td>\n",
              "      <td>42</td>\n",
              "      <td>868</td>\n",
              "      <td>704</td>\n",
              "      <td>2</td>\n",
              "      <td>debit</td>\n",
              "      <td>2017-03-23 18:10:14</td>\n",
              "    </tr>\n",
              "    <tr>\n",
              "      <th>2766</th>\n",
              "      <td>2767</td>\n",
              "      <td>42</td>\n",
              "      <td>970</td>\n",
              "      <td>704</td>\n",
              "      <td>2</td>\n",
              "      <td>credit_card</td>\n",
              "      <td>2017-03-05 10:45:42</td>\n",
              "    </tr>\n",
              "    <tr>\n",
              "      <th>2987</th>\n",
              "      <td>2988</td>\n",
              "      <td>42</td>\n",
              "      <td>819</td>\n",
              "      <td>1056</td>\n",
              "      <td>3</td>\n",
              "      <td>cash</td>\n",
              "      <td>2017-03-03 9:09:25</td>\n",
              "    </tr>\n",
              "    <tr>\n",
              "      <th>3513</th>\n",
              "      <td>3514</td>\n",
              "      <td>42</td>\n",
              "      <td>726</td>\n",
              "      <td>1056</td>\n",
              "      <td>3</td>\n",
              "      <td>debit</td>\n",
              "      <td>2017-03-24 17:51:05</td>\n",
              "    </tr>\n",
              "    <tr>\n",
              "      <th>3651</th>\n",
              "      <td>3652</td>\n",
              "      <td>42</td>\n",
              "      <td>830</td>\n",
              "      <td>352</td>\n",
              "      <td>1</td>\n",
              "      <td>credit_card</td>\n",
              "      <td>2017-03-24 22:26:58</td>\n",
              "    </tr>\n",
              "    <tr>\n",
              "      <th>3697</th>\n",
              "      <td>3698</td>\n",
              "      <td>42</td>\n",
              "      <td>839</td>\n",
              "      <td>352</td>\n",
              "      <td>1</td>\n",
              "      <td>debit</td>\n",
              "      <td>2017-03-12 2:45:09</td>\n",
              "    </tr>\n",
              "    <tr>\n",
              "      <th>3903</th>\n",
              "      <td>3904</td>\n",
              "      <td>42</td>\n",
              "      <td>975</td>\n",
              "      <td>352</td>\n",
              "      <td>1</td>\n",
              "      <td>debit</td>\n",
              "      <td>2017-03-12 1:28:31</td>\n",
              "    </tr>\n",
              "    <tr>\n",
              "      <th>3998</th>\n",
              "      <td>3999</td>\n",
              "      <td>42</td>\n",
              "      <td>886</td>\n",
              "      <td>352</td>\n",
              "      <td>1</td>\n",
              "      <td>debit</td>\n",
              "      <td>2017-03-09 20:10:41</td>\n",
              "    </tr>\n",
              "    <tr>\n",
              "      <th>4231</th>\n",
              "      <td>4232</td>\n",
              "      <td>42</td>\n",
              "      <td>962</td>\n",
              "      <td>352</td>\n",
              "      <td>1</td>\n",
              "      <td>cash</td>\n",
              "      <td>2017-03-04 0:01:19</td>\n",
              "    </tr>\n",
              "    <tr>\n",
              "      <th>4294</th>\n",
              "      <td>4295</td>\n",
              "      <td>42</td>\n",
              "      <td>859</td>\n",
              "      <td>704</td>\n",
              "      <td>2</td>\n",
              "      <td>cash</td>\n",
              "      <td>2017-03-24 20:50:40</td>\n",
              "    </tr>\n",
              "    <tr>\n",
              "      <th>4326</th>\n",
              "      <td>4327</td>\n",
              "      <td>42</td>\n",
              "      <td>788</td>\n",
              "      <td>704</td>\n",
              "      <td>2</td>\n",
              "      <td>debit</td>\n",
              "      <td>2017-03-16 23:37:57</td>\n",
              "    </tr>\n",
              "    <tr>\n",
              "      <th>4421</th>\n",
              "      <td>4422</td>\n",
              "      <td>42</td>\n",
              "      <td>736</td>\n",
              "      <td>704</td>\n",
              "      <td>2</td>\n",
              "      <td>credit_card</td>\n",
              "      <td>2017-03-01 12:19:49</td>\n",
              "    </tr>\n",
              "    <tr>\n",
              "      <th>4625</th>\n",
              "      <td>4626</td>\n",
              "      <td>42</td>\n",
              "      <td>809</td>\n",
              "      <td>352</td>\n",
              "      <td>1</td>\n",
              "      <td>credit_card</td>\n",
              "      <td>2017-03-11 8:21:26</td>\n",
              "    </tr>\n",
              "    <tr>\n",
              "      <th>4745</th>\n",
              "      <td>4746</td>\n",
              "      <td>42</td>\n",
              "      <td>872</td>\n",
              "      <td>352</td>\n",
              "      <td>1</td>\n",
              "      <td>debit</td>\n",
              "      <td>2017-03-24 0:57:24</td>\n",
              "    </tr>\n",
              "    <tr>\n",
              "      <th>4767</th>\n",
              "      <td>4768</td>\n",
              "      <td>42</td>\n",
              "      <td>720</td>\n",
              "      <td>704</td>\n",
              "      <td>2</td>\n",
              "      <td>credit_card</td>\n",
              "      <td>2017-03-14 10:26:08</td>\n",
              "    </tr>\n",
              "  </tbody>\n",
              "</table>\n",
              "</div>"
            ],
            "text/plain": [
              "      order_id  shop_id  ...  payment_method           created_at\n",
              "40          41       42  ...     credit_card  2017-03-24 14:15:41\n",
              "308        309       42  ...     credit_card  2017-03-11 18:14:39\n",
              "409        410       42  ...     credit_card  2017-03-04 14:32:58\n",
              "834        835       42  ...            cash  2017-03-25 21:31:25\n",
              "835        836       42  ...            cash  2017-03-09 14:15:15\n",
              "938        939       42  ...     credit_card  2017-03-13 23:43:45\n",
              "979        980       42  ...           debit  2017-03-12 13:09:04\n",
              "1364      1365       42  ...            cash   2017-03-10 6:28:21\n",
              "1367      1368       42  ...            cash   2017-03-13 2:38:34\n",
              "1471      1472       42  ...           debit  2017-03-12 23:00:22\n",
              "1512      1513       42  ...           debit  2017-03-24 13:35:04\n",
              "1520      1521       42  ...           debit  2017-03-22 13:10:31\n",
              "1911      1912       42  ...            cash   2017-03-07 5:42:52\n",
              "1929      1930       42  ...     credit_card   2017-03-17 8:11:13\n",
              "2003      2004       42  ...            cash   2017-03-26 9:21:26\n",
              "2018      2019       42  ...           debit  2017-03-01 12:42:26\n",
              "2053      2054       42  ...           debit  2017-03-19 11:49:12\n",
              "2273      2274       42  ...           debit  2017-03-27 20:48:19\n",
              "2491      2492       42  ...           debit  2017-03-01 18:33:33\n",
              "2609      2610       42  ...           debit  2017-03-23 18:10:14\n",
              "2766      2767       42  ...     credit_card  2017-03-05 10:45:42\n",
              "2987      2988       42  ...            cash   2017-03-03 9:09:25\n",
              "3513      3514       42  ...           debit  2017-03-24 17:51:05\n",
              "3651      3652       42  ...     credit_card  2017-03-24 22:26:58\n",
              "3697      3698       42  ...           debit   2017-03-12 2:45:09\n",
              "3903      3904       42  ...           debit   2017-03-12 1:28:31\n",
              "3998      3999       42  ...           debit  2017-03-09 20:10:41\n",
              "4231      4232       42  ...            cash   2017-03-04 0:01:19\n",
              "4294      4295       42  ...            cash  2017-03-24 20:50:40\n",
              "4326      4327       42  ...           debit  2017-03-16 23:37:57\n",
              "4421      4422       42  ...     credit_card  2017-03-01 12:19:49\n",
              "4625      4626       42  ...     credit_card   2017-03-11 8:21:26\n",
              "4745      4746       42  ...           debit   2017-03-24 0:57:24\n",
              "4767      4768       42  ...     credit_card  2017-03-14 10:26:08\n",
              "\n",
              "[34 rows x 7 columns]"
            ]
          },
          "metadata": {
            "tags": []
          },
          "execution_count": 39
        }
      ]
    },
    {
      "cell_type": "markdown",
      "metadata": {
        "id": "fVLXWLVP3bTY",
        "colab_type": "text"
      },
      "source": [
        "The higher order values are explained by the ordering of multiple items and the fact that shoes from shop 42 are rather expensive (but not un-naturally so). From the box chart of total_items below, anything below 6 items is a relatively normal purchase. (While 8 pairs is an outlier, intuitively I don't think 8 pairs is an extraordinary purchase, especially for family purchases)"
      ]
    },
    {
      "cell_type": "code",
      "metadata": {
        "id": "bT1y4TuU3MF6",
        "colab_type": "code",
        "colab": {
          "base_uri": "https://localhost:8080/",
          "height": 297
        },
        "outputId": "2e01ce06-4b75-42c7-eaa1-e351674a6ec2"
      },
      "source": [
        "sns.boxplot(x=df['total_items'])"
      ],
      "execution_count": null,
      "outputs": [
        {
          "output_type": "execute_result",
          "data": {
            "text/plain": [
              "<matplotlib.axes._subplots.AxesSubplot at 0x7f1d88749518>"
            ]
          },
          "metadata": {
            "tags": []
          },
          "execution_count": 40
        },
        {
          "output_type": "display_data",
          "data": {
            "image/png": "[encoded data removed]",
            "text/plain": [
              "<Figure size 432x288 with 1 Axes>"
            ]
          },
          "metadata": {
            "tags": [],
            "needs_background": "light"
          }
        }
      ]
    },
    {
      "cell_type": "markdown",
      "metadata": {
        "id": "nmeifWRLPqM5",
        "colab_type": "text"
      },
      "source": [
        "Filtering out shop 78 orders, we find that the AOV is $302"
      ]
    },
    {
      "cell_type": "code",
      "metadata": {
        "id": "J3hi6YEp30In",
        "colab_type": "code",
        "colab": {
          "base_uri": "https://localhost:8080/",
          "height": 34
        },
        "outputId": "9bf01651-c36b-4000-8f49-60542573694c"
      },
      "source": [
        "df = df[df['shop_id'] != 78 ]\n",
        "df['order_amount'].sum() / len(df['order_amount'])"
      ],
      "execution_count": null,
      "outputs": [
        {
          "output_type": "execute_result",
          "data": {
            "text/plain": [
              "302.58051448247926"
            ]
          },
          "metadata": {
            "tags": []
          },
          "execution_count": 41
        }
      ]
    },
    {
      "cell_type": "markdown",
      "metadata": {
        "id": "rN7YtcDo6w42",
        "colab_type": "text"
      },
      "source": [
        "This is looking closer to what I would expect. Let's make another boxplot to view our progress"
      ]
    },
    {
      "cell_type": "code",
      "metadata": {
        "id": "05cGTqhm7PuW",
        "colab_type": "code",
        "colab": {
          "base_uri": "https://localhost:8080/",
          "height": 297
        },
        "outputId": "d02b0187-c9a7-41cb-d1d1-dfe21c40051c"
      },
      "source": [
        "sns.boxplot(x=df['order_amount'])"
      ],
      "execution_count": null,
      "outputs": [
        {
          "output_type": "execute_result",
          "data": {
            "text/plain": [
              "<matplotlib.axes._subplots.AxesSubplot at 0x7f1d88769630>"
            ]
          },
          "metadata": {
            "tags": []
          },
          "execution_count": 42
        },
        {
          "output_type": "display_data",
          "data": {
            "image/png": "[encoded data removed]",
            "text/plain": [
              "<Figure size 432x288 with 1 Axes>"
            ]
          },
          "metadata": {
            "tags": [],
            "needs_background": "light"
          }
        }
      ]
    },
    {
      "cell_type": "markdown",
      "metadata": {
        "id": "gslnK_dJ8Exy",
        "colab_type": "text"
      },
      "source": [
        "This is looking pretty good. The \"outlier\" values can be explained by the purchasing of multiple items. From the description of the order_amounts below, the minimum order amount is 90. It is safe to say there is nothing artificially lowering the AOV"
      ]
    },
    {
      "cell_type": "code",
      "metadata": {
        "id": "DWdeWucB9Ci-",
        "colab_type": "code",
        "colab": {
          "base_uri": "https://localhost:8080/",
          "height": 170
        },
        "outputId": "30c0ef0c-04eb-46f8-8af7-0a07a9f910c9"
      },
      "source": [
        "df['order_amount'].describe()"
      ],
      "execution_count": null,
      "outputs": [
        {
          "output_type": "execute_result",
          "data": {
            "text/plain": [
              "count    4937.000000\n",
              "mean      302.580514\n",
              "std       160.804912\n",
              "min        90.000000\n",
              "25%       163.000000\n",
              "50%       284.000000\n",
              "75%       387.000000\n",
              "max      1760.000000\n",
              "Name: order_amount, dtype: float64"
            ]
          },
          "metadata": {
            "tags": []
          },
          "execution_count": 50
        }
      ]
    },
    {
      "cell_type": "markdown",
      "metadata": {
        "id": "MIH0b96P_pDq",
        "colab_type": "text"
      },
      "source": [
        "All things considered, I think taking the median is a more comprehensive metric when assessing the value of shoes sold. As such, the value of the metric I would report is **$284**"
      ]
    },
    {
      "cell_type": "markdown",
      "metadata": {
        "id": "xlqgntrsYlpW",
        "colab_type": "text"
      },
      "source": [
        "### Final comments\n",
        "a. \n",
        "- First of all, user 607's orders should be removed since they are clearly not reflective of typical customer behavior\n",
        "- Orders from store 78 should be removed.\n",
        "  - Assuming store 78 is a luxury store, purchases from store 78 should be evaluated separately rather than jumbled with the rest of the stores.\n",
        "\n",
        "b.\n",
        "- The metric that most effectively portrays expected customer order amounts would be the median. While purchasing 4-8 pairs of shoes isn't unheard of, a mass majority will tend to purchase 1-2 pairs of shoes. As such, I opted to use the median, a metric more robust against extreme values.\n",
        "\n",
        "c.\n",
        "- The value I would choose to report is $284.00"
      ]
    },
    {
      "cell_type": "markdown",
      "metadata": {
        "id": "rXvldm6UAyYJ",
        "colab_type": "text"
      },
      "source": [
        "# Question 2\n",
        "\n",
        "a. \n",
        "```\n",
        "SELECT COUNT(ShipperName) \n",
        "FROM [Orders] \n",
        "LEFT JOIN Shippers ON Orders.ShipperID = Shippers.ShipperID \n",
        "WHERE ShipperName=='Speedy Express'\n",
        "\n",
        ">>>  54\n",
        "```\n",
        "\n",
        "b.\n",
        "```\n",
        "SELECT LastName\n",
        "FROM [Orders] \n",
        "LEFT JOIN Employees ON Orders.EmployeeID = Employees.EmployeeID \n",
        "GROUP BY LastName\n",
        "ORDER BY COUNT(*) DESC\n",
        "LIMIT 1\n",
        "\n",
        ">>> Peacock\n",
        "```\n",
        "\n",
        "c.\n",
        "```\n",
        "FROM [Orders] \n",
        "LEFT JOIN Customers ON Orders.CustomerID = Customers.CustomerID \n",
        "LEFT JOIN OrderDetails ON Orders.OrderID = OrderDetails.OrderID\n",
        "WHERE Country == 'Germany'\n",
        "GROUP BY ProductID\n",
        "ORDER BY COUNT(*) DESC\n",
        "LIMIT 1\n",
        "\n",
        ">>> 31\n",
        "\n",
        "SELECT ProductName FROM [Products]\n",
        "WHERE ProductID == 31\n",
        "\n",
        ">>> Gorgonzola Telino\n",
        "```"
      ]
    }
  ]
}